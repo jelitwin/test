{
  "nbformat": 4,
  "nbformat_minor": 0,
  "metadata": {
    "colab": {
      "provenance": [],
      "authorship_tag": "ABX9TyOjlnuvxTnyQ2tTQmd3LXbz",
      "include_colab_link": true
    },
    "kernelspec": {
      "name": "python3",
      "display_name": "Python 3"
    },
    "language_info": {
      "name": "python"
    }
  },
  "cells": [
    {
      "cell_type": "markdown",
      "metadata": {
        "id": "view-in-github",
        "colab_type": "text"
      },
      "source": [
        "<a href=\"https://colab.research.google.com/github/jelitwin/test/blob/main/CSCI360_Lab0.ipynb\" target=\"_parent\"><img src=\"https://colab.research.google.com/assets/colab-badge.svg\" alt=\"Open In Colab\"/></a>"
      ]
    },
    {
      "cell_type": "markdown",
      "source": [
        "**LIST**"
      ],
      "metadata": {
        "id": "UUsnn85Mw8lT"
      }
    },
    {
      "cell_type": "code",
      "execution_count": null,
      "metadata": {
        "id": "n0K6C7qJwKwy"
      },
      "outputs": [],
      "source": [
        "#Create a new list\n",
        "players = [\"John\", \"Mary\", \"Mason\", \"Cameron\", \"Michael\"]"
      ]
    },
    {
      "cell_type": "code",
      "source": [
        "#indexing and slicing"
      ],
      "metadata": {
        "id": "3TyEpbW0wUuq"
      },
      "execution_count": null,
      "outputs": []
    },
    {
      "cell_type": "code",
      "source": [
        "#List comprehension\n",
        "list_1 = [x*x for x in range(50, 101) if x % 2 == 1] \n",
        "#this list is all x squared for odd numbers between 50 and 100\n",
        "print('List 1:', list_1)\n",
        "\n",
        "list_2 = [x for x in players if 'e' in x]\n",
        "print('List 2:', list_2)"
      ],
      "metadata": {
        "colab": {
          "base_uri": "https://localhost:8080/"
        },
        "id": "se19uoz2w3l6",
        "outputId": "71c587c7-3b53-4986-fd01-2276415da0e0"
      },
      "execution_count": null,
      "outputs": [
        {
          "output_type": "stream",
          "name": "stdout",
          "text": [
            "List 1: [2601, 2809, 3025, 3249, 3481, 3721, 3969, 4225, 4489, 4761, 5041, 5329, 5625, 5929, 6241, 6561, 6889, 7225, 7569, 7921, 8281, 8649, 9025, 9409, 9801]\n",
            "List 2: ['Cameron', 'Michael']\n"
          ]
        }
      ]
    },
    {
      "cell_type": "code",
      "source": [
        "# Other list functions\n",
        "numbers = [1, 37, 2, 59, 46, 32, 12, 40, 78]\n",
        "\n",
        "numbers.sort(reverse=True)\n",
        "print('Numbers after sorting:', numbers)\n",
        "\n",
        "print('Sum:', sum(numbers))\n",
        "print('Min:', min(numbers))\n",
        "print('Max:', max(numbers))\n",
        "print('Mean:', sum(numbers) / len(numbers))\n",
        "print('Median:', numbers[4])"
      ],
      "metadata": {
        "colab": {
          "base_uri": "https://localhost:8080/"
        },
        "id": "Ch9COqZ7yUEx",
        "outputId": "f2ea16e6-2ce1-4b08-a83e-8f41f35eb4b3"
      },
      "execution_count": null,
      "outputs": [
        {
          "output_type": "stream",
          "name": "stdout",
          "text": [
            "Numbers after sorting: [78, 59, 46, 40, 37, 32, 12, 2, 1]\n",
            "Sum: 307\n",
            "Min: 1\n",
            "Max: 78\n",
            "Mean: 34.111111111111114\n",
            "Median: 37\n"
          ]
        }
      ]
    },
    {
      "cell_type": "markdown",
      "source": [
        "**Queue** (First In First Out)"
      ],
      "metadata": {
        "id": "yTQSDlQAzz6j"
      }
    },
    {
      "cell_type": "code",
      "source": [
        "# can use list with append() and pop() instead of enqueue() and dequeue()\n",
        "#can use collections.deque\n",
        "#can use queue.Queue - built in python module"
      ],
      "metadata": {
        "id": "vafsTodLz21H"
      },
      "execution_count": null,
      "outputs": []
    },
    {
      "cell_type": "code",
      "source": [
        "#Using deque\n",
        "from collections import deque\n",
        "\n",
        "queue = deque([2, -1, 3, 4, -1, 5, 6, 7, -1, 8, 9, 10, -1, -1])\n",
        "#can also use append to add each element"
      ],
      "metadata": {
        "id": "-YeQDOMH0bIG"
      },
      "execution_count": null,
      "outputs": []
    },
    {
      "cell_type": "code",
      "source": [
        "def reOrg(queue):\n",
        "  output_list = []\n",
        "  while(len(queue)):\n",
        "    if(queue[0]==-1):\n",
        "      queue.popleft()\n",
        "      continue\n",
        "    sub_list = []\n",
        "    while(len(queue) and queue[0] != -1):\n",
        "      sub_list.append(queue[0])\n",
        "      queue.popleft()\n",
        "    output_list.append(sub_list)\n",
        "  return output_list\n",
        "\n",
        "reOrg(queue)\n",
        "\n",
        "#above logic is similar to returning level-order traversal of a tree"
      ],
      "metadata": {
        "colab": {
          "base_uri": "https://localhost:8080/"
        },
        "id": "S_QuYQa30xl2",
        "outputId": "0f159a29-fae0-4756-f31f-52b1878170d3"
      },
      "execution_count": null,
      "outputs": [
        {
          "output_type": "execute_result",
          "data": {
            "text/plain": [
              "[[2], [3, 4], [5, 6, 7], [8, 9, 10]]"
            ]
          },
          "metadata": {},
          "execution_count": 11
        }
      ]
    },
    {
      "cell_type": "markdown",
      "source": [
        "**Dictionary** (like hashmap)"
      ],
      "metadata": {
        "id": "RZaGsb2l11TU"
      }
    },
    {
      "cell_type": "code",
      "source": [
        "student_scores = {1001:[95, 93, 81, 90, 100], 1002:[100, 95, 89, 87, ''], 1003:[92, 91, '', 80, '']}\n",
        "\n",
        "print(student_scores)\n",
        "print(\"We have data for following students:\", student_scores.keys())"
      ],
      "metadata": {
        "colab": {
          "base_uri": "https://localhost:8080/"
        },
        "id": "yVKL2nHo16Jv",
        "outputId": "1e3b4ef0-b716-460e-b611-fe6ead2fef01"
      },
      "execution_count": null,
      "outputs": [
        {
          "output_type": "stream",
          "name": "stdout",
          "text": [
            "{1001: [95, 93, 81, 90, 100], 1002: [100, 95, 89, 87, ''], 1003: [92, 91, '', 80, '']}\n",
            "We have data for following students: dict_keys([1001, 1002, 1003])\n"
          ]
        }
      ]
    },
    {
      "cell_type": "code",
      "source": [
        "patient = {\n",
        "    'bmi' : 30,\n",
        "    'diagnosis' : ['Schizophrenia', 'Diabetes', 'Anxiety'],\n",
        "    'heart_rates': [95, 123, 135, 91, 175, 2000]\n",
        "}\n",
        "\n",
        "patient['medication'] = ''\n",
        "patient['medication'] = ['Aripiprazole', 'Citalopram', 'Ibuprofen']\n",
        "#patient['medication'] = ''\n",
        "#patient['medication'] = ''\n",
        "#patient['medication'] = ''\n",
        "print(patient)"
      ],
      "metadata": {
        "colab": {
          "base_uri": "https://localhost:8080/"
        },
        "id": "Z5rSKzX01zpp",
        "outputId": "5ef59483-3dbf-4d22-8d1d-b877b5143d95"
      },
      "execution_count": null,
      "outputs": [
        {
          "output_type": "stream",
          "name": "stdout",
          "text": [
            "{'bmi': 30, 'diagnosis': ['Schizophrenia', 'Diabetes', 'Anxiety'], 'heart_rates': [95, 123, 135, 91, 175, 2000], 'medication': ['Aripiprazole', 'Citalopram', 'Ibuprofen']}\n"
          ]
        }
      ]
    },
    {
      "cell_type": "markdown",
      "source": [
        "**Heaps**"
      ],
      "metadata": {
        "id": "SCON8jPv4CwE"
      }
    },
    {
      "cell_type": "code",
      "source": [],
      "metadata": {
        "id": "i5e7ugyn4I3V"
      },
      "execution_count": null,
      "outputs": []
    },
    {
      "cell_type": "markdown",
      "source": [
        "GITHUB\n",
        "Quick setup — if you’ve done this kind of thing before\n",
        "or\t\n",
        "git@github.com:jelitwin/test.git\n",
        "Get started by creating a new file or uploading an existing file. We recommend every repository include a README, LICENSE, and .gitignore.\n",
        "\n",
        "…or create a new repository on the command line\n",
        "echo \"# test\" >> README.md\n",
        "git init\n",
        "git add README.md\n",
        "git commit -m \"first commit\"\n",
        "git branch -M main\n",
        "git remote add origin git@github.com:jelitwin/test.git\n",
        "git push -u origin main\n",
        "\n",
        "…or push an existing repository from the command line\n",
        "git remote add origin git@github.com:jelitwin/test.git\n",
        "git branch -M main\n",
        "git push -u origin main\n",
        "\n",
        "…or import code from another repository\n",
        "You can initialize this repository with code from a Subversion, Mercurial, or TFS project.\n",
        "\n",
        "\n"
      ],
      "metadata": {
        "id": "o3Zno9fD9yn_"
      }
    },
    {
      "cell_type": "markdown",
      "source": [],
      "metadata": {
        "id": "m2nMsLXR9-HA"
      }
    }
  ]
}